{
 "cells": [
  {
   "cell_type": "code",
   "execution_count": 68,
   "metadata": {
    "collapsed": true
   },
   "outputs": [],
   "source": [
    "snippit = \"\"\"\n",
    "Smartphones, led by iPhone, have become an essential part of our lives. People use them to store an incredible amount of personal information, from our private conversations to our photos, our music, our notes, our calendars and contacts, our financial information and health data, even where we have been and where we are going.\n",
    "\n",
    "All that information needs to be protected from hackers and criminals who want to access it, steal it, and use it without our knowledge or permission. Customers expect Apple and other technology companies to do everything in our power to protect their personal information, and at Apple we are deeply committed to safeguarding their data.\n",
    "\n",
    "Compromising the security of our personal information can ultimately put our personal safety at risk. That is why encryption has become so important to all of us.\n",
    "\n",
    "For many years, we have used encryption to protect our customers’ personal data because we believe it’s the only way to keep their information safe. We have even put that data out of our own reach, because we believe the contents of your iPhone are none of our business.\n",
    "\"\"\""
   ]
  },
  {
   "cell_type": "code",
   "execution_count": 78,
   "metadata": {
    "collapsed": true
   },
   "outputs": [],
   "source": [
    "import numpy as np\n",
    "import pandas as pd\n",
    "import string\n",
    "\n",
    "from nltk.tokenize import sent_tokenize\n",
    "from nltk.corpus import stopwords"
   ]
  },
  {
   "cell_type": "code",
   "execution_count": 70,
   "metadata": {
    "collapsed": false
   },
   "outputs": [],
   "source": [
    "punctuation = list(string.punctuation)\n",
    "punctuation.extend(['\\n',\"’\"])\n",
    "punctuation.remove('.')"
   ]
  },
  {
   "cell_type": "code",
   "execution_count": 75,
   "metadata": {
    "collapsed": false
   },
   "outputs": [],
   "source": [
    "# remove punc\n",
    "snippit_clean = ''.join([c.lower() for c in snippit if c not in punctuation])"
   ]
  },
  {
   "cell_type": "code",
   "execution_count": 76,
   "metadata": {
    "collapsed": false
   },
   "outputs": [],
   "source": [
    "sentences = snippit_clean.split('.')"
   ]
  },
  {
   "cell_type": "code",
   "execution_count": 90,
   "metadata": {
    "collapsed": false
   },
   "outputs": [],
   "source": [
    "normalized_intersections = np.zeros(shape=(len(sentences), len(sentences)),\n",
    "                                    dtype=float)"
   ]
  },
  {
   "cell_type": "code",
   "execution_count": 95,
   "metadata": {
    "collapsed": true
   },
   "outputs": [],
   "source": [
    "sentences.remove('')"
   ]
  },
  {
   "cell_type": "code",
   "execution_count": 107,
   "metadata": {
    "collapsed": false
   },
   "outputs": [],
   "source": [
    "for idx, sentence1 in enumerate(sentences):\n",
    "    for jdx, sentence2 in enumerate(sentences):\n",
    "        words1 = set(sentence1.split(' '))\n",
    "        words2 = set(sentence2.split(' '))\n",
    "        \n",
    "        intersection = words1.intersection(words2)\n",
    "        avg_len = (len(sentence1)+len(sentence2))/2\n",
    "        norm_intersect = len(intersection)/avg_len\n",
    "        \n",
    "        normalized_intersections[idx, jdx] = norm_intersect\n",
    "        \n",
    "np.fill_diagonal(normalized_intersections, 0)"
   ]
  },
  {
   "cell_type": "code",
   "execution_count": 111,
   "metadata": {
    "collapsed": false
   },
   "outputs": [
    {
     "data": {
      "text/plain": [
       "array([[ 0.        ,  0.02507837,  0.00930233,  0.00787402,  0.02380952,\n",
       "         0.03125   ,  0.01886792,  0.04255319,  0.        ],\n",
       "       [ 0.02507837,  0.        ,  0.03015075,  0.04118993,  0.02279202,\n",
       "         0.0192926 ,  0.03544304,  0.04312668,  0.00796813],\n",
       "       [ 0.00930233,  0.03015075,  0.        ,  0.02402402,  0.01619433,\n",
       "         0.02898551,  0.02061856,  0.01498127,  0.        ],\n",
       "       [ 0.00787402,  0.04118993,  0.02402402,  0.        ,  0.02797203,\n",
       "         0.01626016,  0.05454545,  0.03267974,  0.01075269],\n",
       "       [ 0.02380952,  0.02279202,  0.01619433,  0.02797203,  0.        ,\n",
       "         0.0125    ,  0.03278689,  0.03636364,  0.        ],\n",
       "       [ 0.03125   ,  0.0192926 ,  0.02898551,  0.01626016,  0.0125    ,\n",
       "         0.        ,  0.01960784,  0.03333333,  0.03333333],\n",
       "       [ 0.01886792,  0.03544304,  0.02061856,  0.05454545,  0.03278689,\n",
       "         0.01960784,  0.        ,  0.0530303 ,  0.        ],\n",
       "       [ 0.04255319,  0.04312668,  0.01498127,  0.03267974,  0.03636364,\n",
       "         0.03333333,  0.0530303 ,  0.        ,  0.01666667],\n",
       "       [ 0.        ,  0.00796813,  0.        ,  0.01075269,  0.        ,\n",
       "         0.03333333,  0.        ,  0.01666667,  0.        ]])"
      ]
     },
     "execution_count": 111,
     "metadata": {},
     "output_type": "execute_result"
    }
   ],
   "source": [
    "normalized_intersections"
   ]
  },
  {
   "cell_type": "code",
   "execution_count": 114,
   "metadata": {
    "collapsed": true
   },
   "outputs": [],
   "source": [
    "overall_rating = {}\n",
    "for idx, sentence in enumerate(sentences):\n",
    "    overall_rating[sentence] = normalized_intersections[idx, :].sum()"
   ]
  },
  {
   "cell_type": "code",
   "execution_count": 118,
   "metadata": {
    "collapsed": false
   },
   "outputs": [
    {
     "name": "stdout",
     "output_type": "stream",
     "text": [
      "0.158735351063\n",
      "smartphones led by iphone have become an essential part of our lives\n",
      "--------------------\n",
      "0.144256772714\n",
      "all that information needs to be protected from hackers and criminals who want to access it steal it and use it without our knowledge or permission\n",
      "--------------------\n",
      "0.27273482749\n",
      " we have even put that data out of our own reach because we believe the contents of your iphone are none of our business\n",
      "--------------------\n",
      "0.172418428167\n",
      "compromising the security of our personal information can ultimately put our personal safety at risk\n",
      "--------------------\n",
      "0.194562784154\n",
      " that is why encryption has become so important to all of us\n",
      "--------------------\n",
      "0.234900005163\n",
      "for many years we have used encryption to protect our customers personal data because we believe its the only way to keep their information safe\n",
      "--------------------\n",
      "0.225041532419\n",
      " people use them to store an incredible amount of personal information from our private conversations to our photos our music our notes our calendars and contacts our financial information and health data even where we have been and where we are going\n",
      "--------------------\n",
      "0.215298042975\n",
      " customers expect apple and other technology companies to do everything in our power to protect their personal information and at apple we are deeply committed to safeguarding their data\n",
      "--------------------\n"
     ]
    }
   ],
   "source": [
    "for key, val in overall_rating.items():\n",
    "    print(val)\n",
    "    print(key)\n",
    "    print('--------------------')"
   ]
  }
 ],
 "metadata": {
  "kernelspec": {
   "display_name": "Python 3",
   "language": "python",
   "name": "python3"
  },
  "language_info": {
   "codemirror_mode": {
    "name": "ipython",
    "version": 3
   },
   "file_extension": ".py",
   "mimetype": "text/x-python",
   "name": "python",
   "nbconvert_exporter": "python",
   "pygments_lexer": "ipython3",
   "version": "3.5.1"
  }
 },
 "nbformat": 4,
 "nbformat_minor": 0
}
